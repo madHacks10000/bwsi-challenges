{
 "cells": [
  {
   "cell_type": "markdown",
   "metadata": {},
   "source": [
    "# One time pad\n",
    "\n",
    "This lab covers an security flaw that arises in the one time pad when the same pad is used more than once. When \n",
    "two messages are XORed with the same pad, you can XOR the ciphertexts together to get rid of the pad entirely. Use \n",
    "this lab to explore how to XOR two strings, and then crack this poor implementation of the \"Two time pad.\" "
   ]
  },
  {
   "cell_type": "markdown",
   "metadata": {},
   "source": [
    "### Challenge Name: xor (/embsec/one_time_pad/xor)\n",
    "\n",
    "\n",
    "The XOR operation is very common in cryptography and security, since it is very useful and also very fast. It's used in\n",
    "many algorithms, including AES and the one time pad. Here, use the Python bitwise XOR to XOR two strings together.\n",
    "    \n",
    "    1. Read in two byte strings of length 16 from the serial device\n",
    "    2. Do a bitwise XOR on each character\n",
    "    3. Make a byte string out of the XORed result of each pair of characters\n",
    "    4. Send the byte string back over the serial\n",
    "\n",
    "Resources:\n",
    "<https://python-reference.readthedocs.io/en/latest/docs/operators/bitwise_XOR.html>\n",
    "\n",
    "Additional resources (For the one-line solution. Do this AFTER completing it for the first time if you want an added challenge):\n",
    "<https://docs.python.org/3.3/library/functions.html#zip>\n",
    "\n"
   ]
  },
  {
   "cell_type": "code",
   "execution_count": 2,
   "metadata": {},
   "outputs": [
    {
     "data": {
      "text/plain": [
       "b'embsec{xor_650e67c878bed7a8}\\n'"
      ]
     },
     "execution_count": 2,
     "metadata": {},
     "output_type": "execute_result"
    }
   ],
   "source": [
    "from embsec import Serial\n",
    "\n",
    "def xor():\n",
    "    ser = Serial(\"/embsec/one_time_pad/xor\")\n",
    "    # Your code goes here!\n",
    "    one = ser.read(16)\n",
    "    two = ser.read(16)\n",
    "    \n",
    "    xor = bytearray()\n",
    "    for i in range(16):\n",
    "        xor.append(one[i] ^ two[i])\n",
    "        \n",
    "    ser.write(xor)\n",
    "    return ser.read_until()\n",
    "\n",
    "xor()\n"
   ]
  },
  {
   "cell_type": "markdown",
   "metadata": {},
   "source": [
    "### Challenge Name: two_time_pad (/embsec/one_time_pad/two_time_pad)\n",
    "\n",
    "\n",
    "The one time pad (OTP) is theoretically a perfectly secure encryption method that cannot be cracked. However,\n",
    "the main downside is that you must first exchange a pre-shared key that is the same size as the plaintext. Poor\n",
    "implementation of the OTP leads to severe vulnerabilities.\n",
    "\n",
    "In this challenge, you will be given two ciphertexts which have been XORed using the same OTP. It is your job to\n",
    "extract the message from these ciphertexts given them and a list of possible plaintexts.\n",
    "\n",
    "    1. Read in the two byte string ciphertexts of length 16\n",
    "    2. Read in the list of all possible plaintexts from \"plaintexts.txt\"\n",
    "    3. Perform your attack\n",
    "    4. Send back the two decoded ciphertexts (order does not matter)\n",
    "\n",
    "Both of the plaintext strings will be contained within \"plaintexts.txt\"\n",
    "\n",
    "The key to this attack is that when you XOR something with itself, it becomes zero. So for any number x, x ^ x is 0. \n",
    "Here, you will be given two ciphertexts which look like A ^ K and B ^ K. If you XOR these together (A ^ K ^ B ^ K), \n",
    "the key will cancel out, leaving you witl A ^ B. After this, cryptanalysis comes in to finish guessing the message. \n",
    "However, in place of complicated cryptanalysis, you have been given a list of possible plaintexts which you will use \n",
    "to crack the one time pad. \n",
    "\n",
    "Resources:\n",
    "<https://en.wikipedia.org/wiki/One-time_pad>\n",
    "<https://python-reference.readthedocs.io/en/latest/docs/operators/bitwise_XOR.html>\n",
    "<http://www.crypto-it.net/eng/attacks/two-time-pad.html>\n",
    "\n"
   ]
  },
  {
   "cell_type": "code",
   "execution_count": 1,
   "metadata": {},
   "outputs": [
    {
     "data": {
      "text/plain": [
       "b'embsec{two_time_pad_ad5903bfcb5e44cd}\\n'"
      ]
     },
     "execution_count": 1,
     "metadata": {},
     "output_type": "execute_result"
    }
   ],
   "source": [
    "from embsec import Serial\n",
    "\n",
    "def two_time_pad():\n",
    "    ser = Serial(\"/embsec/one_time_pad/two_time_pad\")\n",
    "    # Your code goes here!\n",
    "    #A and B are plaintexts\n",
    "    one = ser.read(16) #A ^ K\n",
    "    two = ser.read(16) #B ^ K\n",
    "    \n",
    "    contents = []\n",
    "    with open(\"plaintexts.txt\", \"rb\") as f:\n",
    "        contents = [line[:-1] for line in f.readlines()]\n",
    "        \n",
    "    # going from A^K and B^K to A^B\n",
    "    xor = bytearray()\n",
    "    for i in range(16):\n",
    "        xor.append(one[i] ^ two[i])\n",
    "    \n",
    "    for i in range(len(contents)):\n",
    "        for j in range(i+1, len(contents)):\n",
    "            plain = bytearray()\n",
    "            for k in range(16):\n",
    "                plain.append(contents[i][k] ^ contents[j][k])\n",
    "                \n",
    "                if (plain == xor):\n",
    "                    ser.write(contents[i])\n",
    "                    ser.write(contents[j])\n",
    "                    return ser.read_until()\n",
    "\n",
    "two_time_pad()\n"
   ]
  },
  {
   "cell_type": "code",
   "execution_count": null,
   "metadata": {},
   "outputs": [],
   "source": []
  },
  {
   "cell_type": "code",
   "execution_count": null,
   "metadata": {},
   "outputs": [],
   "source": []
  }
 ],
 "metadata": {
  "kernelspec": {
   "display_name": "Python 3",
   "language": "python",
   "name": "python3"
  },
  "language_info": {
   "codemirror_mode": {
    "name": "ipython",
    "version": 3
   },
   "file_extension": ".py",
   "mimetype": "text/x-python",
   "name": "python",
   "nbconvert_exporter": "python",
   "pygments_lexer": "ipython3",
   "version": "3.7.6"
  }
 },
 "nbformat": 4,
 "nbformat_minor": 4
}
