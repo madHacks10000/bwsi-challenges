{
 "cells": [
  {
   "cell_type": "markdown",
   "metadata": {},
   "source": [
    "# Aes python\n",
    "\n",
    " In this lesson you will learn how to use the Python library\n",
    "PyCryptodome to encrypt and decrypt with the AES algorithm. This\n",
    "lesson requires an understanding of Python IO, byte manipulation,\n",
    "and endianess. Good luck!\n"
   ]
  },
  {
   "cell_type": "markdown",
   "metadata": {},
   "source": [
    "### Challenge Name: aes_decrypt (/embsec/aes_python/aes_decrypt)\n",
    "\n",
    "\n",
    "    The serial device is sending you a message encrypted with the key\n",
    "    stored in aeskeyfile.bin. The message is in the following format:\n",
    "       \n",
    "    [ 0x10 ] [      0x2      ] [ variable...]\n",
    "    ----------------------------------------\n",
    "    |  IV   | Ciphertext Size | Ciphertext |\n",
    "    ----------------------------------------\n",
    "    \n",
    "    1. Read the AES key from 'aeskeyfile0.bin'\n",
    "    2. Read the 16 byte initialization vector (IV) from the serial device\n",
    "    3. Read the ciphertext size (formatted as a little-endian short) from the serial device\n",
    "    4. Read the ciphertext from the serial device\n",
    "    5. Decrypt the ciphertext using 128-bit AES in CBC mode\n",
    "    \n",
    "Resources:\n",
    "\n",
    "<https://docs.python.org/3/library/struct.html>\n",
    "\n",
    "<https://pycryptodome.readthedocs.io/en/latest/src/cipher/aes.html>\n",
    "\n"
   ]
  },
  {
   "cell_type": "code",
   "execution_count": 12,
   "metadata": {},
   "outputs": [
    {
     "name": "stdout",
     "output_type": "stream",
     "text": [
      "b'embsec{aes_decrypt_4dd756ae7f5f38ee}\\n\\x0b\\x0b\\x0b\\x0b\\x0b\\x0b\\x0b\\x0b\\x0b\\x0b\\x0b'\n"
     ]
    }
   ],
   "source": [
    "from embsec import Serial\n",
    "from Crypto.Cipher import AES\n",
    "import struct\n",
    "\n",
    "def aes_decrypt():\n",
    "    ser = Serial(\"/embsec/aes_python/aes_decrypt\")\n",
    "    # Your code goes here!\n",
    "    with open('aeskeyfile0.bin', 'rb') as f: \n",
    "        AESkey = f.read()\n",
    "        \n",
    "    #reading in the information\n",
    "    IV = ser.read(16)\n",
    "    size = ser.read(2)\n",
    "    size = struct.unpack('<h', size)[0]\n",
    "    text = ser.read(size) #bc .read returns a tuple\n",
    "    \n",
    "    #decrypt using 128-bit AES in CBC mode\n",
    "    cipher1 = AES.new(AESkey, AES.MODE_CBC, iv=IV)\n",
    "    plaintext1 = cipher1.decrypt(text)\n",
    "    print(plaintext1)\n",
    "\n",
    "aes_decrypt()\n"
   ]
  },
  {
   "cell_type": "markdown",
   "metadata": {},
   "source": [
    "### Challenge Name: aes_encrypt_file (/embsec/aes_python/aes_encrypt_file)\n",
    "\n",
    "\n",
    "    You need to send an encrypted message to the serial device. Encrypt\n",
    "    the contents of 'plaintext.bin' with the key found in 'aeskeyfile.bin' \n",
    "    and a random IV. The message needs to be formatted as follows:\n",
    "    \n",
    "    [ 0x10 ] [      0x2      ] [ variable...]\n",
    "    ----------------------------------------\n",
    "    |  IV   | Ciphertext Size | Ciphertext |\n",
    "    ----------------------------------------\n",
    "\n",
    "    1. Read the AES key from 'aeskeyfile1.bin'\n",
    "    2. Encrypt the plaintext located in 'plaintext.bin'\n",
    "    3. Send the IV to the serial device\n",
    "    4. Send the ciphertext size (formatted as a little-endian short) to the serial device\n",
    "    5. Send the ciphertext to the serial device\n",
    "    6. Read the response\n",
    "\n",
    "Resources:\n",
    "\n",
    "<https://docs.python.org/3/library/struct.html>\n",
    "\n",
    "<https://pycryptodome.readthedocs.io/en/latest/src/cipher/aes.html>\n",
    "\n",
    "\n"
   ]
  },
  {
   "cell_type": "code",
   "execution_count": 3,
   "metadata": {},
   "outputs": [
    {
     "name": "stdout",
     "output_type": "stream",
     "text": [
      "1\n",
      "2\n",
      "2.3\n",
      "2.6\n",
      "3\n"
     ]
    },
    {
     "data": {
      "text/plain": [
       "b'embsec{aes_encrypt_file_79441ee4364446ca}\\n'"
      ]
     },
     "execution_count": 3,
     "metadata": {},
     "output_type": "execute_result"
    }
   ],
   "source": [
    "from embsec import Serial\n",
    "import struct\n",
    "from Crypto.Cipher import AES\n",
    "import json\n",
    "from base64 import b64encode\n",
    "from Crypto.Util.Padding import pad\n",
    "from Crypto.Random import get_random_bytes\n",
    "\n",
    "\n",
    "def aes_encrypt_file():\n",
    "    ser = Serial(\"/embsec/aes_python/aes_encrypt_file\")\n",
    "    # Your code goes here!\n",
    "    #reads the key\n",
    "    with open('aeskeyfile1.bin', 'rb') as k: \n",
    "        key = k.read()\n",
    "    \n",
    "    with open('plaintext.txt', 'rb') as p: \n",
    "        plaintext = p.read()\n",
    "    print('1')\n",
    "    #data = plaintext\n",
    "    cipher = AES.new(key, AES.MODE_CBC)\n",
    "    ct_bytes = cipher.encrypt(pad(plaintext, AES.block_size))\n",
    "    iv = cipher.iv\n",
    "    ct = ct_bytes\n",
    "    print('2')\n",
    "    #pack data together\n",
    "    ser.write(iv)\n",
    "    print('2.3')\n",
    "    ser.write(struct.pack('<H', len(ct)))\n",
    "    print('2.6')\n",
    "    ser.write(struct.pack('{}s'.format(len(ct)), ct))\n",
    "    print('3')\n",
    "    return ser.read_until()\n",
    "\n",
    "\n",
    "aes_encrypt_file()\n"
   ]
  },
  {
   "cell_type": "markdown",
   "metadata": {},
   "source": [
    "### Challenge Name: aes_encrypted_echo (/embsec/aes_python/aes_encrypted_echo)\n",
    "\n",
    "\n",
    "    The serial device is sending you an encrypted message. Decrypt\n",
    "    the message and send it back encrypt with a different IV. The \n",
    "    message needs to be formatted as follows:\n",
    "    \n",
    "    [ 0x10 ] [      0x2      ] [ variable...]\n",
    "    ----------------------------------------\n",
    "    |  IV   | Ciphertext Size | Ciphertext |\n",
    "    ----------------------------------------\n",
    "    \n",
    "    1. Read the AES key from 'aeskeyfile2.bin'\n",
    "    2. Read the 16 byte initialization vector (IV) from the serial device\n",
    "    3. Read the ciphertext size (formatted as a little-endian short) from the serial device\n",
    "    4. Read the ciphertext from the serial device\n",
    "    5. Decrypt the ciphertext using 128-bit AES in CBC mode\n",
    "    2. Re-encrypt the plaintext with the same key but a new IV\n",
    "    3. Send the IV to the serial device\n",
    "    4. Send the ciphertext size (formatted as a little-endian short) to the serial device\n",
    "    5. Send the ciphertext to the serial device\n",
    "    6. Read the response\n",
    "\n",
    "\n"
   ]
  },
  {
   "cell_type": "code",
   "execution_count": null,
   "metadata": {},
   "outputs": [],
   "source": [
    "from embsec import Serial\n",
    "\n",
    "def aes_encrypted_echo():\n",
    "    ser = Serial(\"/embsec/aes_python/aes_encrypted_echo\")\n",
    "    # Your code goes here!\n",
    "\n",
    "aes_encrypted_echo()\n"
   ]
  }
 ],
 "metadata": {
  "kernelspec": {
   "display_name": "Python 3",
   "language": "python",
   "name": "python3"
  },
  "language_info": {
   "codemirror_mode": {
    "name": "ipython",
    "version": 3
   },
   "file_extension": ".py",
   "mimetype": "text/x-python",
   "name": "python",
   "nbconvert_exporter": "python",
   "pygments_lexer": "ipython3",
   "version": "3.7.6"
  }
 },
 "nbformat": 4,
 "nbformat_minor": 4
}
