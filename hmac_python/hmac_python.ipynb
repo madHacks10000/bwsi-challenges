{
 "cells": [
  {
   "cell_type": "markdown",
   "metadata": {},
   "source": [
    "# Hmac python\n",
    "\n"
   ]
  },
  {
   "cell_type": "markdown",
   "metadata": {},
   "source": [
    "### Challenge Name: hmac_generate (/embsec/hmac_python/hmac_generate)\n",
    "\n",
    "\n",
    "    The serial device will send you a variable-length frame of data. The data\n",
    "    frame will begin with a short, little-endian integer size of the data to \n",
    "    follow. You must generate an HMAC-SHA256 signature using the key in \n",
    "    'hmackeyfile0.bin'.\n",
    "    \n",
    "    The data frame you will receive from the device will be formatted as follows:\n",
    "    \n",
    "    [ 0x2   ] [   variable...   ]\n",
    "    ------------------------------\n",
    "    | Size   |     Data          |\n",
    "    ------------------------------\n",
    "    \n",
    "    You must send a 32-byte HMAC-SHA256 signature to the serial device.\n",
    "    \n",
    "    [     0x20     ]\n",
    "    ----------------\n",
    "    |  HMAC(Data)  |\n",
    "    ----------------\n",
    "    \n",
    "    1. Read the HMAC key from 'hmackeyfile0.bin'\n",
    "    2. Read the size of the data from the serial device\n",
    "    3. Read the data from the serial device\n",
    "    4. Generate and send a HMAC-SHA256 over the data\n",
    "    5. Read the response\n",
    "    \n",
    "\n"
   ]
  },
  {
   "cell_type": "code",
   "execution_count": 8,
   "metadata": {},
   "outputs": [
    {
     "data": {
      "text/plain": [
       "b'embsec{hmac_generate_a4e12689937d35aa}\\n'"
      ]
     },
     "execution_count": 8,
     "metadata": {},
     "output_type": "execute_result"
    }
   ],
   "source": [
    "from embsec import Serial\n",
    "from Crypto.Hash import HMAC, SHA256\n",
    "import struct\n",
    "\n",
    "def hmac_generate():\n",
    "    ser = Serial(\"/embsec/hmac_python/hmac_generate\")\n",
    "    # Your code goes here!\n",
    "    with open('hmackeyfile0.bin', 'rb') as h: \n",
    "        hmackey = h.read()\n",
    "        \n",
    "    size = ser.read(2)\n",
    "    size = struct .unpack('<H', size)[0]\n",
    "    data = ser.read(size)\n",
    "    #generate a HMAC-SHA256\n",
    "    \n",
    "    h = HMAC.new(hmackey, data, digestmod=SHA256)\n",
    "    \n",
    "    \n",
    "    ser.write(h.digest())\n",
    "    return ser.read_until()\n",
    "\n",
    "hmac_generate()\n"
   ]
  },
  {
   "cell_type": "markdown",
   "metadata": {},
   "source": [
    "### Challenge Name: hmac_verify (/embsec/hmac_python/hmac_verify)\n",
    "\n",
    "\n",
    "    The serial device will send you a series of messages in the format\n",
    "    described below. For each message you must check the attached signature \n",
    "    If verification fails, you must respond with a zero-byte '\\x00'. If \n",
    "    verification passes, you must respond with a one-byte '\\x01'. When the\n",
    "    length of the message you are about to receive is zero , read a newline-\n",
    "    terminated flag.\n",
    "\n",
    "    The serial device will send signed messages in the following format:\n",
    "\n",
    "    ----------------------------------------\n",
    "    [ 0x2 ] [  Size bytes    ] [   0x20   ]\n",
    "    ----------------------------------------\n",
    "    | Size |     Data         | HMAC(Data) |\n",
    "    ----------------------------------------\n",
    "\n"
   ]
  },
  {
   "cell_type": "code",
   "execution_count": 21,
   "metadata": {},
   "outputs": [
    {
     "data": {
      "text/plain": [
       "b'embsec{hmac_verify_7b74a277b7790de5}\\n'"
      ]
     },
     "execution_count": 21,
     "metadata": {},
     "output_type": "execute_result"
    }
   ],
   "source": [
    "from embsec import Serial\n",
    "import struct\n",
    "from Crypto.Hash import HMAC, SHA256\n",
    "\n",
    "def hmac_verify():\n",
    "    ser = Serial(\"/embsec/hmac_python/hmac_verify\")\n",
    "    # Your code goes here!\n",
    "    with open('hmackeyfile1.bin', 'rb') as hh: \n",
    "        hmackey = hh.read()\n",
    "    size = ser.read(2)\n",
    "    size = struct.unpack('<H', size)[0]\n",
    "    \n",
    "    #size = 0;\n",
    "    while (size > 0):\n",
    "        data = ser.read(size)\n",
    "        hmac = ser.read(32)\n",
    "        h = HMAC.new(hmackey, data, digestmod=SHA256).digest()\n",
    "        #h.update(msg)\n",
    "        if(h == hmac):\n",
    "            ser.write(b'\\x01')\n",
    "        else:\n",
    "            ser.write(b'\\x00')\n",
    "        size = ser.read(2)\n",
    "        size = struct.unpack('<h', size)[0]\n",
    "    \n",
    "    return ser.read_until()\n",
    "\n",
    "hmac_verify()\n"
   ]
  },
  {
   "cell_type": "code",
   "execution_count": null,
   "metadata": {},
   "outputs": [],
   "source": []
  }
 ],
 "metadata": {
  "kernelspec": {
   "display_name": "Python 3",
   "language": "python",
   "name": "python3"
  },
  "language_info": {
   "codemirror_mode": {
    "name": "ipython",
    "version": 3
   },
   "file_extension": ".py",
   "mimetype": "text/x-python",
   "name": "python",
   "nbconvert_exporter": "python",
   "pygments_lexer": "ipython3",
   "version": "3.7.6"
  }
 },
 "nbformat": 4,
 "nbformat_minor": 4
}
