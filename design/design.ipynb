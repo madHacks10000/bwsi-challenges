{
 "cells": [
  {
   "cell_type": "markdown",
   "metadata": {},
   "source": [
    "# Design\n",
    "\n"
   ]
  },
  {
   "cell_type": "markdown",
   "metadata": {},
   "source": [
    "### Challenge Name: fw_protect (/embsec/design/fw_protect)\n",
    "\n",
    "The purpose of this tool will be to secure the firmware. Eventually,\n",
    "you will want to keep the firmware confidential and be able to verify its integrity and authenticity. But for now, \n",
    "you will implement a firmware protect tool that does not add security. This tool should simply:\n",
    "\n",
    "    1. Pack the version \"0\" into a little-endian short\n",
    "    2. Load the firmware binary from firmware.bin\n",
    "    3. Pack the size of the firmware into a little-endian short\n",
    "    4. Append the release message \"First version of firmware.\" to end of firmware (make sure it is null-terminated)\n",
    "    5. Build and send a binary blob in the following format to the grader:\n",
    "    \n",
    "        [ 0x2 ]      [ 0x2 ]      [ variable ]           [ variable ]\n",
    "        -------------------------------------------------------------------------\n",
    "        version | firmware size |   firmware   |   release message + null-byte   \n",
    "\n",
    "\n"
   ]
  },
  {
   "cell_type": "code",
   "execution_count": 7,
   "metadata": {},
   "outputs": [
    {
     "data": {
      "text/plain": [
       "b'embsec{fw_protect_3214d354b890de9e}\\n'"
      ]
     },
     "execution_count": 7,
     "metadata": {},
     "output_type": "execute_result"
    }
   ],
   "source": [
    "from embsec import Serial\n",
    "import struct\n",
    "\n",
    "def fw_protect():\n",
    "    ser = Serial(\"/embsec/design/fw_protect\")\n",
    "    # Your code goes here!\n",
    "    message = bytearray(\"First version of firmware.\\0\", \"utf-8\")\n",
    "    with open (\"firmware_0.bin\", \"rb\") as f:\n",
    "        firmware = f.read() \n",
    "        size = len(firmware)\n",
    "        size2 = len(message)\n",
    "        version = struct.pack('<HH{}s{}s'.format(size, size2), 0, size, firmware, message)\n",
    "    ser.write(version)\n",
    "    return (ser.read_until())\n",
    "    \n",
    "fw_protect()\n"
   ]
  },
  {
   "cell_type": "markdown",
   "metadata": {},
   "source": [
    "### Challenge Name: fw_update (/embsec/design/fw_update)\n",
    "\n",
    "For this lesson you will implement a basic update tool for the design challenge.\n",
    "The tool will be used to update the device firmware. You should focus on reading in the firmware blob file, \n",
    "and constructing a set of frames to send to the bootloader. Pay attention to the structure of these \n",
    "frames, as the bootloader is expecting a certain size and format.\n",
    "\n",
    "The bootloader is expecting frames of the following format:\n",
    "\n",
    "      [ 0x2 ]    [ variable ]\n",
    "    ----------------------------\n",
    "    frame size |   data... \n",
    "\n",
    "Process:\n",
    "\n",
    "1. Read in binary blob\n",
    "2. Construct frames from blob\n",
    "3. Send a 'U' for update mode & receive a confirmation 'U'\n",
    "4. Send frames sequentially to boot loader\n",
    "\n"
   ]
  },
  {
   "cell_type": "code",
   "execution_count": 1,
   "metadata": {},
   "outputs": [
    {
     "name": "stdout",
     "output_type": "stream",
     "text": [
      "bytearray(b'U')\n",
      "bytearray(b'\\x00')\n",
      "bytearray(b'\\x00')\n",
      "bytearray(b'\\x00')\n",
      "bytearray(b'\\x00')\n",
      "bytearray(b'\\x00')\n",
      "bytearray(b'\\x00')\n",
      "bytearray(b'\\x00')\n",
      "bytearray(b'\\x00')\n",
      "bytearray(b'\\x00')\n",
      "bytearray(b'\\x00')\n",
      "bytearray(b'\\x00')\n",
      "bytearray(b'\\x00')\n",
      "bytearray(b'\\x00')\n",
      "bytearray(b'\\x00')\n",
      "bytearray(b'\\x00')\n",
      "bytearray(b'\\x00')\n",
      "bytearray(b'\\x00')\n",
      "bytearray(b'\\x00')\n",
      "bytearray(b'\\x00')\n",
      "bytearray(b'\\x00')\n",
      "bytearray(b'\\x00')\n",
      "bytearray(b'\\x00')\n",
      "bytearray(b'\\x00')\n",
      "bytearray(b'\\x00')\n",
      "bytearray(b'\\x00')\n",
      "bytearray(b'\\x00')\n",
      "bytearray(b'\\x00')\n",
      "bytearray(b'\\x00')\n",
      "bytearray(b'\\x00')\n",
      "bytearray(b'\\x00')\n",
      "bytearray(b'\\x00')\n",
      "bytearray(b'\\x00')\n",
      "bytearray(b'\\x00')\n"
     ]
    },
    {
     "data": {
      "text/plain": [
       "b'\\x00embsec{fw_update_19ff992a9736907d}\\n'"
      ]
     },
     "execution_count": 1,
     "metadata": {},
     "output_type": "execute_result"
    }
   ],
   "source": [
    "from embsec import Serial\n",
    "import struct\n",
    "\n",
    "def fw_update():\n",
    "    ser = Serial(\"/embsec/design/fw_update\")\n",
    "    with open (\"firmware_1.blob\", \"rb\") as fp:\n",
    "        firmware = fp.read()\n",
    "    \n",
    "    #msg = bytearray(\"U\", \"utf-8\")\n",
    "    #ser.write(struct.pack('>s', msg))\n",
    "    ser.write(b'U')\n",
    "    \n",
    "    #deals with metadata\n",
    "    ser.write(firmware[0:4])\n",
    "    print(ser.read()) #should see an okay message after sending metadata\n",
    "    \n",
    "    #recieved = ser.read(64)\n",
    "    #while (recieved != \"0\"):\n",
    "        #recieved = ser.read(64)\n",
    "        \n",
    "    for i in range(4, len(firmware), 2):\n",
    "        chunk = firmware[i: i+2]\n",
    "        frame = struct.pack('>H2s', len(chunk), chunk)\n",
    "        ser.write(frame)\n",
    "        #got_data = ser.read(64)\n",
    "        print(ser.read())\n",
    "\n",
    "    ser.write(struct.pack(\">H0s\", 0, b\"\"))\n",
    "    return (ser.read_until())\n",
    "    \n",
    "fw_update()"
   ]
  },
  {
   "cell_type": "code",
   "execution_count": null,
   "metadata": {},
   "outputs": [],
   "source": []
  }
 ],
 "metadata": {
  "kernelspec": {
   "display_name": "Python 3",
   "language": "python",
   "name": "python3"
  },
  "language_info": {
   "codemirror_mode": {
    "name": "ipython",
    "version": 3
   },
   "file_extension": ".py",
   "mimetype": "text/x-python",
   "name": "python",
   "nbconvert_exporter": "python",
   "pygments_lexer": "ipython3",
   "version": "3.7.6"
  }
 },
 "nbformat": 4,
 "nbformat_minor": 4
}
